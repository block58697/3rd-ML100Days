{
 "cells": [
  {
   "cell_type": "markdown",
   "metadata": {},
   "source": [
    "## [作業目標]\n",
    "了解機器學習適合應用的領域與範疇。"
   ]
  },
  {
   "cell_type": "markdown",
   "metadata": {},
   "source": [
    "## [作業重點]\n",
    "透過瞭解機器學習的運作方式，找出非常適用機器學習應用的領域及其原因"
   ]
  },
  {
   "cell_type": "markdown",
   "metadata": {},
   "source": [
    "## 作業\n",
    "請找出一個你認為機器學習可以發光發熱的領域並闡述原因? "
   ]
  },
  {
   "cell_type": "code",
   "execution_count": null,
   "metadata": {},
   "outputs": [],
   "source": [
    "    參加本次馬拉松最主要學習機器學習相關編碼技能，100天後我希望能夠應用在生態調查相關。\n",
    "    \n",
    "    因為就讀森林系關係，認識了許多植物，但植物通常是不會有認完的一天，只能一步步慢慢累積，但我們常在野外採集\n",
    "了不知名的植物，沒有辦法在現場辨識，只能藉由拍照或回去查資料，但往往查資料的時間就浪費了大半，而且也未必能百\n",
    "分之百確定，未來我想要利用機器學習、自然語言處理或是爬蟲來整理分析每種植物的詳細特徵，形成線上的資料庫，供方\n",
    "便有心學習的人查詢。除了鑑定上的成果，最終是希望藉由系統性的分析能知道植物演化的過程。"
   ]
  }
 ],
 "metadata": {
  "kernelspec": {
   "display_name": "Python 3",
   "language": "python",
   "name": "python3"
  },
  "language_info": {
   "codemirror_mode": {
    "name": "ipython",
    "version": 3
   },
   "file_extension": ".py",
   "mimetype": "text/x-python",
   "name": "python",
   "nbconvert_exporter": "python",
   "pygments_lexer": "ipython3",
   "version": "3.7.1"
  }
 },
 "nbformat": 4,
 "nbformat_minor": 2
}
